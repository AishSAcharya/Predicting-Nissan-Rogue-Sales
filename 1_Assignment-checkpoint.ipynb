{
 "cells": [
  {
   "cell_type": "code",
   "execution_count": 1,
   "id": "b4ac98b2",
   "metadata": {},
   "outputs": [],
   "source": [
    "# PROBLEM 4: Forecasting Nissan Rogue Sales"
   ]
  },
  {
   "cell_type": "code",
   "execution_count": 2,
   "id": "c2c2ea44",
   "metadata": {},
   "outputs": [],
   "source": [
    "import numpy as np\n",
    "import pandas as pd"
   ]
  },
  {
   "cell_type": "code",
   "execution_count": 3,
   "id": "a41c54d7",
   "metadata": {
    "scrolled": true
   },
   "outputs": [
    {
     "name": "stdout",
     "output_type": "stream",
     "text": [
      "<class 'pandas.core.frame.DataFrame'>\n",
      "RangeIndex: 162 entries, 0 to 161\n",
      "Data columns (total 8 columns):\n",
      " #   Column        Non-Null Count  Dtype  \n",
      "---  ------        --------------  -----  \n",
      " 0   MonthNumeric  162 non-null    int64  \n",
      " 1   MonthFactor   162 non-null    object \n",
      " 2   Year          162 non-null    int64  \n",
      " 3   RogueSales    162 non-null    int64  \n",
      " 4   Unemployment  162 non-null    float64\n",
      " 5   RogueQueries  162 non-null    int64  \n",
      " 6   CPIAll        162 non-null    float64\n",
      " 7   CPIEnergy     162 non-null    float64\n",
      "dtypes: float64(3), int64(4), object(1)\n",
      "memory usage: 10.2+ KB\n"
     ]
    }
   ],
   "source": [
    "car = pd.read_csv(r'C:\\Users\\achar\\Documents\\Aish\\Masters\\Cal MEng IEOR\\Coursework\\242 Applications in Data Analysis\\Week 1\\Rogue-242-Fall2021.csv')\n",
    "car.info()"
   ]
  },
  {
   "cell_type": "code",
   "execution_count": 4,
   "id": "fef8db59",
   "metadata": {},
   "outputs": [
    {
     "data": {
      "text/html": [
       "<div>\n",
       "<style scoped>\n",
       "    .dataframe tbody tr th:only-of-type {\n",
       "        vertical-align: middle;\n",
       "    }\n",
       "\n",
       "    .dataframe tbody tr th {\n",
       "        vertical-align: top;\n",
       "    }\n",
       "\n",
       "    .dataframe thead th {\n",
       "        text-align: right;\n",
       "    }\n",
       "</style>\n",
       "<table border=\"1\" class=\"dataframe\">\n",
       "  <thead>\n",
       "    <tr style=\"text-align: right;\">\n",
       "      <th></th>\n",
       "      <th>MonthNumeric</th>\n",
       "      <th>MonthFactor</th>\n",
       "      <th>Year</th>\n",
       "      <th>RogueSales</th>\n",
       "      <th>Unemployment</th>\n",
       "      <th>RogueQueries</th>\n",
       "      <th>CPIAll</th>\n",
       "      <th>CPIEnergy</th>\n",
       "    </tr>\n",
       "  </thead>\n",
       "  <tbody>\n",
       "    <tr>\n",
       "      <th>0</th>\n",
       "      <td>1</td>\n",
       "      <td>January</td>\n",
       "      <td>2008</td>\n",
       "      <td>5435</td>\n",
       "      <td>5.0</td>\n",
       "      <td>18</td>\n",
       "      <td>212.174</td>\n",
       "      <td>226.775</td>\n",
       "    </tr>\n",
       "    <tr>\n",
       "      <th>1</th>\n",
       "      <td>2</td>\n",
       "      <td>February</td>\n",
       "      <td>2008</td>\n",
       "      <td>5223</td>\n",
       "      <td>4.9</td>\n",
       "      <td>11</td>\n",
       "      <td>212.687</td>\n",
       "      <td>229.731</td>\n",
       "    </tr>\n",
       "    <tr>\n",
       "      <th>2</th>\n",
       "      <td>3</td>\n",
       "      <td>March</td>\n",
       "      <td>2008</td>\n",
       "      <td>6873</td>\n",
       "      <td>5.1</td>\n",
       "      <td>18</td>\n",
       "      <td>213.448</td>\n",
       "      <td>233.349</td>\n",
       "    </tr>\n",
       "    <tr>\n",
       "      <th>3</th>\n",
       "      <td>4</td>\n",
       "      <td>April</td>\n",
       "      <td>2008</td>\n",
       "      <td>5814</td>\n",
       "      <td>5.0</td>\n",
       "      <td>17</td>\n",
       "      <td>213.942</td>\n",
       "      <td>234.778</td>\n",
       "    </tr>\n",
       "    <tr>\n",
       "      <th>4</th>\n",
       "      <td>5</td>\n",
       "      <td>May</td>\n",
       "      <td>2008</td>\n",
       "      <td>7467</td>\n",
       "      <td>5.4</td>\n",
       "      <td>17</td>\n",
       "      <td>215.208</td>\n",
       "      <td>243.924</td>\n",
       "    </tr>\n",
       "    <tr>\n",
       "      <th>...</th>\n",
       "      <td>...</td>\n",
       "      <td>...</td>\n",
       "      <td>...</td>\n",
       "      <td>...</td>\n",
       "      <td>...</td>\n",
       "      <td>...</td>\n",
       "      <td>...</td>\n",
       "      <td>...</td>\n",
       "    </tr>\n",
       "    <tr>\n",
       "      <th>119</th>\n",
       "      <td>12</td>\n",
       "      <td>Decemeber</td>\n",
       "      <td>2017</td>\n",
       "      <td>40172</td>\n",
       "      <td>4.1</td>\n",
       "      <td>69</td>\n",
       "      <td>247.736</td>\n",
       "      <td>213.119</td>\n",
       "    </tr>\n",
       "    <tr>\n",
       "      <th>120</th>\n",
       "      <td>1</td>\n",
       "      <td>January</td>\n",
       "      <td>2018</td>\n",
       "      <td>36184</td>\n",
       "      <td>4.0</td>\n",
       "      <td>72</td>\n",
       "      <td>248.721</td>\n",
       "      <td>217.273</td>\n",
       "    </tr>\n",
       "    <tr>\n",
       "      <th>121</th>\n",
       "      <td>2</td>\n",
       "      <td>February</td>\n",
       "      <td>2018</td>\n",
       "      <td>38119</td>\n",
       "      <td>4.1</td>\n",
       "      <td>72</td>\n",
       "      <td>249.300</td>\n",
       "      <td>219.765</td>\n",
       "    </tr>\n",
       "    <tr>\n",
       "      <th>122</th>\n",
       "      <td>3</td>\n",
       "      <td>March</td>\n",
       "      <td>2018</td>\n",
       "      <td>42151</td>\n",
       "      <td>4.0</td>\n",
       "      <td>71</td>\n",
       "      <td>249.517</td>\n",
       "      <td>216.492</td>\n",
       "    </tr>\n",
       "    <tr>\n",
       "      <th>123</th>\n",
       "      <td>4</td>\n",
       "      <td>April</td>\n",
       "      <td>2018</td>\n",
       "      <td>23331</td>\n",
       "      <td>4.0</td>\n",
       "      <td>72</td>\n",
       "      <td>250.275</td>\n",
       "      <td>219.424</td>\n",
       "    </tr>\n",
       "  </tbody>\n",
       "</table>\n",
       "<p>124 rows × 8 columns</p>\n",
       "</div>"
      ],
      "text/plain": [
       "     MonthNumeric MonthFactor  Year  RogueSales  Unemployment  RogueQueries  \\\n",
       "0               1     January  2008        5435           5.0            18   \n",
       "1               2    February  2008        5223           4.9            11   \n",
       "2               3       March  2008        6873           5.1            18   \n",
       "3               4       April  2008        5814           5.0            17   \n",
       "4               5         May  2008        7467           5.4            17   \n",
       "..            ...         ...   ...         ...           ...           ...   \n",
       "119            12   Decemeber  2017       40172           4.1            69   \n",
       "120             1     January  2018       36184           4.0            72   \n",
       "121             2    February  2018       38119           4.1            72   \n",
       "122             3       March  2018       42151           4.0            71   \n",
       "123             4       April  2018       23331           4.0            72   \n",
       "\n",
       "      CPIAll  CPIEnergy  \n",
       "0    212.174    226.775  \n",
       "1    212.687    229.731  \n",
       "2    213.448    233.349  \n",
       "3    213.942    234.778  \n",
       "4    215.208    243.924  \n",
       "..       ...        ...  \n",
       "119  247.736    213.119  \n",
       "120  248.721    217.273  \n",
       "121  249.300    219.765  \n",
       "122  249.517    216.492  \n",
       "123  250.275    219.424  \n",
       "\n",
       "[124 rows x 8 columns]"
      ]
     },
     "execution_count": 4,
     "metadata": {},
     "output_type": "execute_result"
    }
   ],
   "source": [
    "car.head(-38)"
   ]
  },
  {
   "cell_type": "code",
   "execution_count": 5,
   "id": "59f62ea0",
   "metadata": {},
   "outputs": [
    {
     "data": {
      "text/plain": [
       "(96, 48, 18)"
      ]
     },
     "execution_count": 5,
     "metadata": {},
     "output_type": "execute_result"
    }
   ],
   "source": [
    "#PART A\n",
    "car_train = car[car['Year'] <= 2015]\n",
    "car_testA = car[(car['Year'] > 2015) & (car['Year'] <= 2019)]\n",
    "car_testB = car[car['Year'] > 2019]\n",
    "\n",
    "len(car_train), len(car_testA), len(car_testB)"
   ]
  },
  {
   "cell_type": "code",
   "execution_count": 6,
   "id": "578c59bc",
   "metadata": {},
   "outputs": [
    {
     "data": {
      "text/html": [
       "<div>\n",
       "<style scoped>\n",
       "    .dataframe tbody tr th:only-of-type {\n",
       "        vertical-align: middle;\n",
       "    }\n",
       "\n",
       "    .dataframe tbody tr th {\n",
       "        vertical-align: top;\n",
       "    }\n",
       "\n",
       "    .dataframe thead th {\n",
       "        text-align: right;\n",
       "    }\n",
       "</style>\n",
       "<table border=\"1\" class=\"dataframe\">\n",
       "  <thead>\n",
       "    <tr style=\"text-align: right;\">\n",
       "      <th></th>\n",
       "      <th>MonthNumeric</th>\n",
       "      <th>Year</th>\n",
       "      <th>RogueSales</th>\n",
       "      <th>Unemployment</th>\n",
       "      <th>RogueQueries</th>\n",
       "      <th>CPIAll</th>\n",
       "      <th>CPIEnergy</th>\n",
       "    </tr>\n",
       "  </thead>\n",
       "  <tbody>\n",
       "    <tr>\n",
       "      <th>MonthNumeric</th>\n",
       "      <td>1.000000</td>\n",
       "      <td>-0.055626</td>\n",
       "      <td>0.010250</td>\n",
       "      <td>0.005178</td>\n",
       "      <td>-0.027966</td>\n",
       "      <td>0.018573</td>\n",
       "      <td>0.023861</td>\n",
       "    </tr>\n",
       "    <tr>\n",
       "      <th>Year</th>\n",
       "      <td>-0.055626</td>\n",
       "      <td>1.000000</td>\n",
       "      <td>0.806593</td>\n",
       "      <td>-0.519502</td>\n",
       "      <td>0.955366</td>\n",
       "      <td>0.985993</td>\n",
       "      <td>-0.288663</td>\n",
       "    </tr>\n",
       "    <tr>\n",
       "      <th>RogueSales</th>\n",
       "      <td>0.010250</td>\n",
       "      <td>0.806593</td>\n",
       "      <td>1.000000</td>\n",
       "      <td>-0.708006</td>\n",
       "      <td>0.834824</td>\n",
       "      <td>0.776689</td>\n",
       "      <td>-0.281817</td>\n",
       "    </tr>\n",
       "    <tr>\n",
       "      <th>Unemployment</th>\n",
       "      <td>0.005178</td>\n",
       "      <td>-0.519502</td>\n",
       "      <td>-0.708006</td>\n",
       "      <td>1.000000</td>\n",
       "      <td>-0.606273</td>\n",
       "      <td>-0.520535</td>\n",
       "      <td>0.063876</td>\n",
       "    </tr>\n",
       "    <tr>\n",
       "      <th>RogueQueries</th>\n",
       "      <td>-0.027966</td>\n",
       "      <td>0.955366</td>\n",
       "      <td>0.834824</td>\n",
       "      <td>-0.606273</td>\n",
       "      <td>1.000000</td>\n",
       "      <td>0.951788</td>\n",
       "      <td>-0.284251</td>\n",
       "    </tr>\n",
       "    <tr>\n",
       "      <th>CPIAll</th>\n",
       "      <td>0.018573</td>\n",
       "      <td>0.985993</td>\n",
       "      <td>0.776689</td>\n",
       "      <td>-0.520535</td>\n",
       "      <td>0.951788</td>\n",
       "      <td>1.000000</td>\n",
       "      <td>-0.166129</td>\n",
       "    </tr>\n",
       "    <tr>\n",
       "      <th>CPIEnergy</th>\n",
       "      <td>0.023861</td>\n",
       "      <td>-0.288663</td>\n",
       "      <td>-0.281817</td>\n",
       "      <td>0.063876</td>\n",
       "      <td>-0.284251</td>\n",
       "      <td>-0.166129</td>\n",
       "      <td>1.000000</td>\n",
       "    </tr>\n",
       "  </tbody>\n",
       "</table>\n",
       "</div>"
      ],
      "text/plain": [
       "              MonthNumeric      Year  RogueSales  Unemployment  RogueQueries  \\\n",
       "MonthNumeric      1.000000 -0.055626    0.010250      0.005178     -0.027966   \n",
       "Year             -0.055626  1.000000    0.806593     -0.519502      0.955366   \n",
       "RogueSales        0.010250  0.806593    1.000000     -0.708006      0.834824   \n",
       "Unemployment      0.005178 -0.519502   -0.708006      1.000000     -0.606273   \n",
       "RogueQueries     -0.027966  0.955366    0.834824     -0.606273      1.000000   \n",
       "CPIAll            0.018573  0.985993    0.776689     -0.520535      0.951788   \n",
       "CPIEnergy         0.023861 -0.288663   -0.281817      0.063876     -0.284251   \n",
       "\n",
       "                CPIAll  CPIEnergy  \n",
       "MonthNumeric  0.018573   0.023861  \n",
       "Year          0.985993  -0.288663  \n",
       "RogueSales    0.776689  -0.281817  \n",
       "Unemployment -0.520535   0.063876  \n",
       "RogueQueries  0.951788  -0.284251  \n",
       "CPIAll        1.000000  -0.166129  \n",
       "CPIEnergy    -0.166129   1.000000  "
      ]
     },
     "execution_count": 6,
     "metadata": {},
     "output_type": "execute_result"
    }
   ],
   "source": [
    "car.corr()"
   ]
  },
  {
   "cell_type": "code",
   "execution_count": 7,
   "id": "665fd754",
   "metadata": {
    "scrolled": true
   },
   "outputs": [
    {
     "name": "stdout",
     "output_type": "stream",
     "text": [
      "                            OLS Regression Results                            \n",
      "==============================================================================\n",
      "Dep. Variable:             RogueSales   R-squared:                       0.796\n",
      "Model:                            OLS   Adj. R-squared:                  0.787\n",
      "Method:                 Least Squares   F-statistic:                     88.71\n",
      "Date:                Tue, 21 Sep 2021   Prob (F-statistic):           1.47e-30\n",
      "Time:                        11:35:29   Log-Likelihood:                -898.41\n",
      "No. Observations:                  96   AIC:                             1807.\n",
      "Df Residuals:                      91   BIC:                             1820.\n",
      "Df Model:                           4                                         \n",
      "Covariance Type:            nonrobust                                         \n",
      "================================================================================\n",
      "                   coef    std err          t      P>|t|      [0.025      0.975]\n",
      "--------------------------------------------------------------------------------\n",
      "Intercept    -6.918e+04   1.42e+04     -4.884      0.000   -9.73e+04    -4.1e+04\n",
      "Unemployment  -138.5673    245.091     -0.565      0.573    -625.411     348.276\n",
      "RogueQueries   172.2780     57.473      2.998      0.004      58.115     286.441\n",
      "CPIAll         410.8467     76.709      5.356      0.000     258.474     563.219\n",
      "CPIEnergy      -65.8007     15.636     -4.208      0.000     -96.859     -34.742\n",
      "==============================================================================\n",
      "Omnibus:                       61.772   Durbin-Watson:                   1.459\n",
      "Prob(Omnibus):                  0.000   Jarque-Bera (JB):              442.090\n",
      "Skew:                           1.883   Prob(JB):                     1.00e-96\n",
      "Kurtosis:                      12.815   Cond. No.                     1.55e+04\n",
      "==============================================================================\n",
      "\n",
      "Notes:\n",
      "[1] Standard Errors assume that the covariance matrix of the errors is correctly specified.\n",
      "[2] The condition number is large, 1.55e+04. This might indicate that there are\n",
      "strong multicollinearity or other numerical problems.\n"
     ]
    }
   ],
   "source": [
    "import statsmodels.api as sm\n",
    "import statsmodels.formula.api as smf\n",
    "\n",
    "model = smf.ols(formula='RogueSales ~ Unemployment + RogueQueries + CPIAll + CPIEnergy',\n",
    "                 data=car_train).fit()\n",
    "\n",
    "print(model.summary())"
   ]
  },
  {
   "cell_type": "code",
   "execution_count": 8,
   "id": "8b9408f2",
   "metadata": {},
   "outputs": [],
   "source": [
    "# Calculate Variance Inflation Factor for each explanatory variable\n",
    "\n",
    "from statsmodels.stats.outliers_influence import variance_inflation_factor\n",
    "\n",
    "def VIF(df, columns):\n",
    "    \n",
    "    values = sm.add_constant(df[columns]).values  # the dataframe passed to VIF must include the intercept term. We add it the same way we did before.\n",
    "    num_columns = len(columns)+1\n",
    "    vif = [variance_inflation_factor(values, i) for i in range(num_columns)]\n",
    "    \n",
    "    return pd.Series(vif[1:], index=columns)"
   ]
  },
  {
   "cell_type": "code",
   "execution_count": 9,
   "id": "c71d7715",
   "metadata": {},
   "outputs": [
    {
     "data": {
      "text/plain": [
       "Unemployment    1.828038\n",
       "RogueQueries    6.072534\n",
       "CPIAll          5.330401\n",
       "CPIEnergy       1.551640\n",
       "dtype: float64"
      ]
     },
     "execution_count": 9,
     "metadata": {},
     "output_type": "execute_result"
    }
   ],
   "source": [
    "# Calculate Variance Inflation Factor for each explanatory variable\n",
    "VIF(car_train, ['Unemployment', 'RogueQueries', 'CPIAll', 'CPIEnergy'])"
   ]
  },
  {
   "cell_type": "code",
   "execution_count": 10,
   "id": "b8d768ec",
   "metadata": {},
   "outputs": [
    {
     "name": "stdout",
     "output_type": "stream",
     "text": [
      "                            OLS Regression Results                            \n",
      "==============================================================================\n",
      "Dep. Variable:             RogueSales   R-squared:                       0.795\n",
      "Model:                            OLS   Adj. R-squared:                  0.789\n",
      "Method:                 Least Squares   F-statistic:                     119.1\n",
      "Date:                Tue, 21 Sep 2021   Prob (F-statistic):           1.45e-31\n",
      "Time:                        11:35:30   Log-Likelihood:                -898.57\n",
      "No. Observations:                  96   AIC:                             1805.\n",
      "Df Residuals:                      92   BIC:                             1815.\n",
      "Df Model:                           3                                         \n",
      "Covariance Type:            nonrobust                                         \n",
      "================================================================================\n",
      "                   coef    std err          t      P>|t|      [0.025      0.975]\n",
      "--------------------------------------------------------------------------------\n",
      "Intercept    -6.908e+04   1.41e+04     -4.895      0.000   -9.71e+04   -4.11e+04\n",
      "RogueQueries   188.9291     49.170      3.842      0.000      91.273     286.585\n",
      "CPIAll         401.8088     74.747      5.376      0.000     253.355     550.262\n",
      "CPIEnergy      -63.7953     15.172     -4.205      0.000     -93.928     -33.663\n",
      "==============================================================================\n",
      "Omnibus:                       60.885   Durbin-Watson:                   1.452\n",
      "Prob(Omnibus):                  0.000   Jarque-Bera (JB):              428.754\n",
      "Skew:                           1.854   Prob(JB):                     7.89e-94\n",
      "Kurtosis:                      12.667   Cond. No.                     1.55e+04\n",
      "==============================================================================\n",
      "\n",
      "Notes:\n",
      "[1] Standard Errors assume that the covariance matrix of the errors is correctly specified.\n",
      "[2] The condition number is large, 1.55e+04. This might indicate that there are\n",
      "strong multicollinearity or other numerical problems.\n"
     ]
    },
    {
     "data": {
      "text/plain": [
       "RogueQueries    4.477880\n",
       "CPIAll          5.098905\n",
       "CPIEnergy       1.471781\n",
       "dtype: float64"
      ]
     },
     "execution_count": 10,
     "metadata": {},
     "output_type": "execute_result"
    }
   ],
   "source": [
    "#Removing Unemployment\n",
    "import statsmodels.formula.api as smf\n",
    "\n",
    "model = smf.ols(formula='RogueSales ~  RogueQueries + CPIAll + CPIEnergy',\n",
    "                 data=car_train).fit()\n",
    "\n",
    "print(model.summary())\n",
    "\n",
    "# Calculate Variance Inflation Factor for each explanatory variable\n",
    "VIF(car_train, ['RogueQueries', 'CPIAll', 'CPIEnergy'])"
   ]
  },
  {
   "cell_type": "code",
   "execution_count": 11,
   "id": "5e85a783",
   "metadata": {
    "scrolled": true
   },
   "outputs": [
    {
     "name": "stdout",
     "output_type": "stream",
     "text": [
      "                            OLS Regression Results                            \n",
      "==============================================================================\n",
      "Dep. Variable:             RogueSales   R-squared:                       0.851\n",
      "Model:                            OLS   Adj. R-squared:                  0.823\n",
      "Method:                 Least Squares   F-statistic:                     30.46\n",
      "Date:                Tue, 21 Sep 2021   Prob (F-statistic):           7.49e-27\n",
      "Time:                        11:35:30   Log-Likelihood:                -883.30\n",
      "No. Observations:                  96   AIC:                             1799.\n",
      "Df Residuals:                      80   BIC:                             1840.\n",
      "Df Model:                          15                                         \n",
      "Covariance Type:            nonrobust                                         \n",
      "============================================================================================\n",
      "                               coef    std err          t      P>|t|      [0.025      0.975]\n",
      "--------------------------------------------------------------------------------------------\n",
      "Intercept                -8.216e+04   1.41e+04     -5.845      0.000    -1.1e+05   -5.42e+04\n",
      "MonthFactor[T.August]     3280.0709   1344.593      2.439      0.017     604.245    5955.896\n",
      "MonthFactor[T.Decemeber]   976.4637   1323.099      0.738      0.463   -1656.587    3609.515\n",
      "MonthFactor[T.February]   2724.2250   1320.184      2.064      0.042      96.975    5351.475\n",
      "MonthFactor[T.January]    -976.9897   1326.575     -0.736      0.464   -3616.959    1662.979\n",
      "MonthFactor[T.July]       1713.7269   1338.649      1.280      0.204    -950.269    4377.723\n",
      "MonthFactor[T.June]        605.8386   1320.488      0.459      0.648   -2022.015    3233.693\n",
      "MonthFactor[T.March]      3990.3761   1322.016      3.018      0.003    1359.481    6621.271\n",
      "MonthFactor[T.May]        2682.1772   1313.479      2.042      0.044      68.270    5296.084\n",
      "MonthFactor[T.November]   -255.6589   1322.607     -0.193      0.847   -2887.731    2376.413\n",
      "MonthFactor[T.October]     179.6851   1320.181      0.136      0.892   -2447.559    2806.929\n",
      "MonthFactor[T.Septeber]    689.5712   1315.836      0.524      0.602   -1929.025    3308.168\n",
      "Unemployment              -266.8447    229.344     -1.164      0.248    -723.253     189.564\n",
      "RogueQueries               111.2632     58.459      1.903      0.061      -5.075     227.601\n",
      "CPIAll                     486.4558     77.483      6.278      0.000     332.260     640.651\n",
      "CPIEnergy                  -78.2961     15.220     -5.144      0.000    -108.586     -48.006\n",
      "==============================================================================\n",
      "Omnibus:                       70.261   Durbin-Watson:                   1.174\n",
      "Prob(Omnibus):                  0.000   Jarque-Bera (JB):              655.246\n",
      "Skew:                           2.117   Prob(JB):                    5.19e-143\n",
      "Kurtosis:                      15.078   Cond. No.                     1.69e+04\n",
      "==============================================================================\n",
      "\n",
      "Notes:\n",
      "[1] Standard Errors assume that the covariance matrix of the errors is correctly specified.\n",
      "[2] The condition number is large, 1.69e+04. This might indicate that there are\n",
      "strong multicollinearity or other numerical problems.\n"
     ]
    },
    {
     "data": {
      "text/plain": [
       "RogueQueries    6.072534\n",
       "CPIAll          5.330401\n",
       "CPIEnergy       1.551640\n",
       "Unemployment    1.828038\n",
       "dtype: float64"
      ]
     },
     "execution_count": 11,
     "metadata": {},
     "output_type": "execute_result"
    }
   ],
   "source": [
    "#PART B: Seasonality\n",
    "\n",
    "import statsmodels.api as sm\n",
    "import statsmodels.formula.api as smf\n",
    "\n",
    "model = smf.ols(formula='RogueSales ~ Unemployment + RogueQueries + CPIAll + CPIEnergy + MonthFactor',\n",
    "                 data=car_train).fit()\n",
    "\n",
    "print(model.summary())\n",
    "# Calculate Variance Inflation Factor for each explanatory variable\n",
    "VIF(car_train, ['RogueQueries', 'CPIAll', 'CPIEnergy','Unemployment'])"
   ]
  },
  {
   "cell_type": "code",
   "execution_count": 12,
   "id": "23afcd21",
   "metadata": {},
   "outputs": [],
   "source": [
    "# Compute Out-of-sample R-squared using the test set\n",
    "\n",
    "def OSR2(model, df_train, df_test, dependent_var):   \n",
    "    \n",
    "    y_test = df_test[dependent_var]\n",
    "    y_pred = model.predict(df_test)\n",
    "    SSE = np.sum((y_test - y_pred)**2)\n",
    "    SST = np.sum((y_test - np.mean(df_train[dependent_var]))**2)    \n",
    "    \n",
    "    return 1 - SSE/SST"
   ]
  },
  {
   "cell_type": "code",
   "execution_count": 13,
   "id": "94d805b8",
   "metadata": {},
   "outputs": [
    {
     "data": {
      "text/plain": [
       "0.9055461393682622"
      ]
     },
     "execution_count": 13,
     "metadata": {},
     "output_type": "execute_result"
    }
   ],
   "source": [
    "OSR2(model, car_train, car_testA, 'RogueSales')"
   ]
  },
  {
   "cell_type": "code",
   "execution_count": 14,
   "id": "8f68f3eb",
   "metadata": {},
   "outputs": [
    {
     "data": {
      "text/plain": [
       "-0.5169656608472619"
      ]
     },
     "execution_count": 14,
     "metadata": {},
     "output_type": "execute_result"
    }
   ],
   "source": [
    "OSR2(model, car_train, car_testB, 'RogueSales')"
   ]
  },
  {
   "cell_type": "code",
   "execution_count": 15,
   "id": "520e6382",
   "metadata": {},
   "outputs": [
    {
     "name": "stdout",
     "output_type": "stream",
     "text": [
      "                            OLS Regression Results                            \n",
      "==============================================================================\n",
      "Dep. Variable:             RogueSales   R-squared:                       0.844\n",
      "Model:                            OLS   Adj. R-squared:                  0.817\n",
      "Method:                 Least Squares   F-statistic:                     31.37\n",
      "Date:                Tue, 21 Sep 2021   Prob (F-statistic):           7.31e-27\n",
      "Time:                        11:35:31   Log-Likelihood:                -885.42\n",
      "No. Observations:                  96   AIC:                             1801.\n",
      "Df Residuals:                      81   BIC:                             1839.\n",
      "Df Model:                          14                                         \n",
      "Covariance Type:            nonrobust                                         \n",
      "============================================================================================\n",
      "                               coef    std err          t      P>|t|      [0.025      0.975]\n",
      "--------------------------------------------------------------------------------------------\n",
      "Intercept                -1.029e+05   9023.912    -11.402      0.000   -1.21e+05   -8.49e+04\n",
      "MonthFactor[T.August]     3803.8075   1337.269      2.844      0.006    1143.063    6464.552\n",
      "MonthFactor[T.Decemeber]   783.3840   1340.389      0.584      0.561   -1883.569    3450.337\n",
      "MonthFactor[T.February]   2980.2731   1334.402      2.233      0.028     325.233    5635.314\n",
      "MonthFactor[T.January]    -630.0621   1335.093     -0.472      0.638   -3286.479    2026.354\n",
      "MonthFactor[T.July]       2189.0734   1336.263      1.638      0.105    -469.671    4847.818\n",
      "MonthFactor[T.June]        847.7123   1335.465      0.635      0.527   -1809.444    3504.868\n",
      "MonthFactor[T.March]      4282.3527   1334.171      3.210      0.002    1627.771    6936.934\n",
      "MonthFactor[T.May]        2724.5229   1334.380      2.042      0.044      69.524    5379.521\n",
      "MonthFactor[T.November]   -497.2979   1337.640     -0.372      0.711   -3158.782    2164.187\n",
      "MonthFactor[T.October]     -31.9764   1336.613     -0.024      0.981   -2691.418    2627.465\n",
      "MonthFactor[T.Septeber]    677.7357   1336.951      0.507      0.614   -1982.378    3337.849\n",
      "Unemployment              -504.3271    195.520     -2.579      0.012    -893.351    -115.304\n",
      "CPIAll                     615.3480     38.252     16.087      0.000     539.239     691.457\n",
      "CPIEnergy                  -95.0297     12.624     -7.528      0.000    -120.147     -69.912\n",
      "==============================================================================\n",
      "Omnibus:                       57.574   Durbin-Watson:                   1.159\n",
      "Prob(Omnibus):                  0.000   Jarque-Bera (JB):              405.189\n",
      "Skew:                           1.716   Prob(JB):                     1.03e-88\n",
      "Kurtosis:                      12.461   Cond. No.                     1.07e+04\n",
      "==============================================================================\n",
      "\n",
      "Notes:\n",
      "[1] Standard Errors assume that the covariance matrix of the errors is correctly specified.\n",
      "[2] The condition number is large, 1.07e+04. This might indicate that there are\n",
      "strong multicollinearity or other numerical problems.\n"
     ]
    },
    {
     "data": {
      "text/plain": [
       "Unemployment    1.347993\n",
       "CPIAll          1.510322\n",
       "CPIEnergy       1.145628\n",
       "dtype: float64"
      ]
     },
     "execution_count": 15,
     "metadata": {},
     "output_type": "execute_result"
    }
   ],
   "source": [
    "#PART C: Removing RogueQueries\n",
    "\n",
    "import statsmodels.api as sm\n",
    "import statsmodels.formula.api as smf\n",
    "\n",
    "model = smf.ols(formula='RogueSales ~ Unemployment + CPIAll + CPIEnergy + MonthFactor ',\n",
    "                 data=car_train).fit()\n",
    "\n",
    "print(model.summary())\n",
    "\n",
    "# Calculate Variance Inflation Factor for each explanatory variable\n",
    "VIF(car_train, ['Unemployment', 'CPIAll', 'CPIEnergy'])"
   ]
  },
  {
   "cell_type": "code",
   "execution_count": 16,
   "id": "c3e64d0f",
   "metadata": {},
   "outputs": [],
   "source": [
    "# Compute Out-of-sample R-squared using the test set\n",
    "\n",
    "def OSR2(model, df_train, df_test, dependent_var):   \n",
    "    \n",
    "    y_test = df_test[dependent_var]\n",
    "    y_pred = model.predict(df_test)\n",
    "    SSE = np.sum((y_test - y_pred)**2)\n",
    "    SST = np.sum((y_test - np.mean(df_train[dependent_var]))**2)    \n",
    "    \n",
    "    return 1 - SSE/SST"
   ]
  },
  {
   "cell_type": "code",
   "execution_count": 17,
   "id": "a6a8b309",
   "metadata": {},
   "outputs": [
    {
     "data": {
      "text/plain": [
       "0.8987975522464839"
      ]
     },
     "execution_count": 17,
     "metadata": {},
     "output_type": "execute_result"
    }
   ],
   "source": [
    "OSR2(model, car_train, car_testA, 'RogueSales')"
   ]
  },
  {
   "cell_type": "code",
   "execution_count": 18,
   "id": "205c9ab7",
   "metadata": {},
   "outputs": [
    {
     "data": {
      "text/plain": [
       "-0.312293458268756"
      ]
     },
     "execution_count": 18,
     "metadata": {},
     "output_type": "execute_result"
    }
   ],
   "source": [
    "OSR2(model, car_train, car_testB, 'RogueSales')"
   ]
  },
  {
   "cell_type": "code",
   "execution_count": 19,
   "id": "be8e932f",
   "metadata": {},
   "outputs": [
    {
     "data": {
      "text/html": [
       "<div>\n",
       "<style scoped>\n",
       "    .dataframe tbody tr th:only-of-type {\n",
       "        vertical-align: middle;\n",
       "    }\n",
       "\n",
       "    .dataframe tbody tr th {\n",
       "        vertical-align: top;\n",
       "    }\n",
       "\n",
       "    .dataframe thead th {\n",
       "        text-align: right;\n",
       "    }\n",
       "</style>\n",
       "<table border=\"1\" class=\"dataframe\">\n",
       "  <thead>\n",
       "    <tr style=\"text-align: right;\">\n",
       "      <th></th>\n",
       "      <th>fx</th>\n",
       "    </tr>\n",
       "  </thead>\n",
       "  <tbody>\n",
       "    <tr>\n",
       "      <th>0</th>\n",
       "      <td>0.009282</td>\n",
       "    </tr>\n",
       "    <tr>\n",
       "      <th>1</th>\n",
       "      <td>0.009338</td>\n",
       "    </tr>\n",
       "    <tr>\n",
       "      <th>2</th>\n",
       "      <td>0.009917</td>\n",
       "    </tr>\n",
       "    <tr>\n",
       "      <th>3</th>\n",
       "      <td>0.009739</td>\n",
       "    </tr>\n",
       "    <tr>\n",
       "      <th>4</th>\n",
       "      <td>0.009586</td>\n",
       "    </tr>\n",
       "  </tbody>\n",
       "</table>\n",
       "</div>"
      ],
      "text/plain": [
       "         fx\n",
       "0  0.009282\n",
       "1  0.009338\n",
       "2  0.009917\n",
       "3  0.009739\n",
       "4  0.009586"
      ]
     },
     "execution_count": 19,
     "metadata": {},
     "output_type": "execute_result"
    }
   ],
   "source": [
    "#PART D\n",
    "#Nissan models are produced in US, Japan and South Korea https://www.todaysmotorvehicles.com/article/automotive-manufacturing-nissan-crossover-rogue-071015/\n",
    "#Exchange rate data retrieved from: http://fx.sauder.ubc.ca/data.html\n",
    "\n",
    "fx = pd.read_csv(r'C:\\Users\\achar\\Documents\\Aish\\Masters\\Cal MEng IEOR\\Coursework\\242 Applications in Data Analysis\\Week 1\\Fx rates.csv')\n",
    "fx.head()"
   ]
  },
  {
   "cell_type": "code",
   "execution_count": 20,
   "id": "1130e577",
   "metadata": {},
   "outputs": [],
   "source": [
    "cars_fx = pd.concat([car.reset_index(drop=True),fx.reset_index(drop=True)], axis=1)"
   ]
  },
  {
   "cell_type": "code",
   "execution_count": 21,
   "id": "d5b0abf6",
   "metadata": {},
   "outputs": [
    {
     "name": "stdout",
     "output_type": "stream",
     "text": [
      "<class 'pandas.core.frame.DataFrame'>\n",
      "RangeIndex: 162 entries, 0 to 161\n",
      "Data columns (total 9 columns):\n",
      " #   Column        Non-Null Count  Dtype  \n",
      "---  ------        --------------  -----  \n",
      " 0   MonthNumeric  162 non-null    int64  \n",
      " 1   MonthFactor   162 non-null    object \n",
      " 2   Year          162 non-null    int64  \n",
      " 3   RogueSales    162 non-null    int64  \n",
      " 4   Unemployment  162 non-null    float64\n",
      " 5   RogueQueries  162 non-null    int64  \n",
      " 6   CPIAll        162 non-null    float64\n",
      " 7   CPIEnergy     162 non-null    float64\n",
      " 8   fx            162 non-null    float64\n",
      "dtypes: float64(4), int64(4), object(1)\n",
      "memory usage: 11.5+ KB\n"
     ]
    }
   ],
   "source": [
    "cars_fx.info()"
   ]
  },
  {
   "cell_type": "code",
   "execution_count": 22,
   "id": "8ff96f98",
   "metadata": {
    "scrolled": true
   },
   "outputs": [
    {
     "data": {
      "text/plain": [
       "(96, 48, 18)"
      ]
     },
     "execution_count": 22,
     "metadata": {},
     "output_type": "execute_result"
    }
   ],
   "source": [
    "carfx_train = cars_fx[cars_fx['Year'] <= 2015]\n",
    "carfx_testA = cars_fx[(cars_fx['Year'] > 2015) & (cars_fx['Year'] <= 2019)]\n",
    "carfx_testB = cars_fx[cars_fx['Year'] > 2019]\n",
    "\n",
    "len(carfx_train), len(carfx_testA), len(carfx_testB)"
   ]
  },
  {
   "cell_type": "code",
   "execution_count": 23,
   "id": "4e2a32b5",
   "metadata": {},
   "outputs": [
    {
     "name": "stdout",
     "output_type": "stream",
     "text": [
      "                            OLS Regression Results                            \n",
      "==============================================================================\n",
      "Dep. Variable:             RogueSales   R-squared:                       0.779\n",
      "Model:                            OLS   Adj. R-squared:                  0.769\n",
      "Method:                 Least Squares   F-statistic:                     80.00\n",
      "Date:                Tue, 21 Sep 2021   Prob (F-statistic):           5.86e-29\n",
      "Time:                        11:35:32   Log-Likelihood:                -902.31\n",
      "No. Observations:                  96   AIC:                             1815.\n",
      "Df Residuals:                      91   BIC:                             1827.\n",
      "Df Model:                           4                                         \n",
      "Covariance Type:            nonrobust                                         \n",
      "================================================================================\n",
      "                   coef    std err          t      P>|t|      [0.025      0.975]\n",
      "--------------------------------------------------------------------------------\n",
      "Intercept    -1.011e+05      1e+04    -10.064      0.000   -1.21e+05   -8.11e+04\n",
      "Unemployment  -835.4876    368.541     -2.267      0.026   -1567.549    -103.426\n",
      "CPIAll         610.1691     42.746     14.274      0.000     525.259     695.079\n",
      "CPIEnergy     -101.4196     17.655     -5.745      0.000    -136.489     -66.350\n",
      "fx            4.474e+05   4.14e+05      1.082      0.282   -3.74e+05    1.27e+06\n",
      "==============================================================================\n",
      "Omnibus:                       43.022   Durbin-Watson:                   1.425\n",
      "Prob(Omnibus):                  0.000   Jarque-Bera (JB):              170.415\n",
      "Skew:                           1.398   Prob(JB):                     9.88e-38\n",
      "Kurtosis:                       8.898   Cond. No.                     4.34e+05\n",
      "==============================================================================\n",
      "\n",
      "Notes:\n",
      "[1] Standard Errors assume that the covariance matrix of the errors is correctly specified.\n",
      "[2] The condition number is large, 4.34e+05. This might indicate that there are\n",
      "strong multicollinearity or other numerical problems.\n"
     ]
    },
    {
     "data": {
      "text/plain": [
       "Unemployment    3.810250\n",
       "CPIAll          1.525860\n",
       "CPIEnergy       1.823656\n",
       "fx              3.918042\n",
       "dtype: float64"
      ]
     },
     "execution_count": 23,
     "metadata": {},
     "output_type": "execute_result"
    }
   ],
   "source": [
    "import statsmodels.formula.api as smf\n",
    "\n",
    "model_fx = smf.ols(formula='RogueSales ~  Unemployment + CPIAll + CPIEnergy + fx',\n",
    "                 data=carfx_train).fit()\n",
    "\n",
    "print(model_fx.summary())\n",
    "\n",
    "# Calculate Variance Inflation Factor for each explanatory variable\n",
    "VIF(carfx_train, ['Unemployment', 'CPIAll', 'CPIEnergy', 'fx'])"
   ]
  },
  {
   "cell_type": "code",
   "execution_count": 24,
   "id": "8c5ed88e",
   "metadata": {},
   "outputs": [
    {
     "data": {
      "text/plain": [
       "0.8888618705212323"
      ]
     },
     "execution_count": 24,
     "metadata": {},
     "output_type": "execute_result"
    }
   ],
   "source": [
    "OSR2(model_fx, carfx_train, carfx_testA, 'RogueSales')"
   ]
  },
  {
   "cell_type": "code",
   "execution_count": 25,
   "id": "8d513ca6",
   "metadata": {},
   "outputs": [
    {
     "data": {
      "text/plain": [
       "-0.19072720129252674"
      ]
     },
     "execution_count": 25,
     "metadata": {},
     "output_type": "execute_result"
    }
   ],
   "source": [
    "OSR2(model_fx, carfx_train, carfx_testB, 'RogueSales')"
   ]
  }
 ],
 "metadata": {
  "kernelspec": {
   "display_name": "Python 3",
   "language": "python",
   "name": "python3"
  },
  "language_info": {
   "codemirror_mode": {
    "name": "ipython",
    "version": 3
   },
   "file_extension": ".py",
   "mimetype": "text/x-python",
   "name": "python",
   "nbconvert_exporter": "python",
   "pygments_lexer": "ipython3",
   "version": "3.8.8"
  }
 },
 "nbformat": 4,
 "nbformat_minor": 5
}
